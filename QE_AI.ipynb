{
  "nbformat": 4,
  "nbformat_minor": 0,
  "metadata": {
    "colab": {
      "provenance": []
    },
    "kernelspec": {
      "name": "python3",
      "display_name": "Python 3"
    },
    "language_info": {
      "name": "python"
    }
  },
  "cells": [
    {
      "cell_type": "code",
      "execution_count": 12,
      "metadata": {
        "id": "rE8WOMK_PCI4"
      },
      "outputs": [],
      "source": [
        "import pandas as pd\n",
        "from sklearn.model_selection import train_test_split\n",
        "from sklearn.feature_extraction.text import CountVectorizer\n",
        "from sklearn.metrics import accuracy_score\n",
        "from tensorflow.keras.preprocessing.text import Tokenizer\n",
        "from tensorflow.keras.preprocessing.sequence import pad_sequences"
      ]
    },
    {
      "cell_type": "code",
      "source": [
        "dataset = pd.read_csv('/content/drive/MyDrive/QE/Training_2.csv', encoding='latin-1')"
      ],
      "metadata": {
        "id": "mZ5tsijZPDip"
      },
      "execution_count": 13,
      "outputs": []
    },
    {
      "cell_type": "code",
      "source": [
        "X = dataset['input']\n",
        "y = dataset['expected_outcomes']"
      ],
      "metadata": {
        "id": "ZWttb9rUPDl-"
      },
      "execution_count": 14,
      "outputs": []
    },
    {
      "cell_type": "code",
      "source": [
        "y=y.values.astype('str')"
      ],
      "metadata": {
        "id": "kgkrcfnjNC2_"
      },
      "execution_count": 15,
      "outputs": []
    },
    {
      "cell_type": "code",
      "source": [
        "print(X.shape)"
      ],
      "metadata": {
        "id": "NcLPPIwjPDox",
        "colab": {
          "base_uri": "https://localhost:8080/"
        },
        "outputId": "0c615867-91a0-42de-b52c-e274b45ca90f"
      },
      "execution_count": 16,
      "outputs": [
        {
          "output_type": "stream",
          "name": "stdout",
          "text": [
            "(29,)\n"
          ]
        }
      ]
    },
    {
      "cell_type": "code",
      "source": [
        "print(X[2])"
      ],
      "metadata": {
        "id": "hS_6P1BorPpd",
        "colab": {
          "base_uri": "https://localhost:8080/"
        },
        "outputId": "914d7fd1-7de9-453c-9a99-a213c1b92847"
      },
      "execution_count": 17,
      "outputs": [
        {
          "output_type": "stream",
          "name": "stdout",
          "text": [
            "User should able to place order with paypal user information not allowed to edit returning from paypal\n"
          ]
        }
      ]
    },
    {
      "cell_type": "code",
      "source": [
        "print(y.shape)"
      ],
      "metadata": {
        "id": "a-7Tt3JhPDrQ",
        "colab": {
          "base_uri": "https://localhost:8080/"
        },
        "outputId": "916aa6ce-d306-453b-b476-a6992d630040"
      },
      "execution_count": 18,
      "outputs": [
        {
          "output_type": "stream",
          "name": "stdout",
          "text": [
            "(29,)\n"
          ]
        }
      ]
    },
    {
      "cell_type": "code",
      "source": [
        "print(y[2])"
      ],
      "metadata": {
        "id": "38kSiDzArasO",
        "colab": {
          "base_uri": "https://localhost:8080/"
        },
        "outputId": "c438ea0f-63ec-42c0-eb3e-a4c4688f6188"
      },
      "execution_count": 19,
      "outputs": [
        {
          "output_type": "stream",
          "name": "stdout",
          "text": [
            "Then the user enters text \"7001\" in textbox with placeholder \"Postal Code, City, or Store Number\"\n",
            "    Then the user clicks on the webelement with html tag \"title\" as \"Search\"\n",
            "    Then the user waits for webelement \"hdca-store-list-item__column-store\" with html attribute \"class\" to be visible\n",
            "    Then the user click on \"Select\"\n",
            "    Then the user enters text sku in textbox with placeholder \"What can we help you find?\"\n",
            "    Then the user clicks on the webelement with html tag \"class\" as \"acl-action-button\"\n",
            "    Then the user waits for text \" Delivery \" to be visible\n",
            "    Then the user add product to cart\n",
            "    Then the user click on \"View Cart\"\n",
            "    Then the user waits for webelement \"hdca-cart__header-title\" with html attribute \"class\" to be visible\n",
            "    Then the user selects the radio button \"Standard Shipping:\"\n",
            "    Then the user validates if the 'Standard Shipping:' radio button at index \"1\" is selected\n",
            "    Then the user click on \"Checkout Now\"\n",
            "    Then the user waits for text \"Secure Checkout\" to be visible\n",
            "    Then the user click on \"Checkout as Guest\"\n",
            "    Then the user waits for webelement \"hdca-checkout-header__title\" with html attribute \"class\" to be visible\n",
            "    Then the user verifies if the webelement with html attribute \"class\" as \"acl-accordion-panel__header-title\" at index \"1\" has text \"STANDARD SHIPPING:\"\n",
            "    Then the user validates if \" Order Subtotal \" text is visible\n",
            "    Then the user validates if \" Standard Shipping \" text is visible\n",
            "    Then the user validates if \" Estimated Taxes \" text is visible\n",
            "    Then the user validates if \" Estimated Order Total \" text is visible\n",
            "    Then the user validates if \" Arrives By: \" text is visible\n",
            "    Then the user enters random email in the textbox \"Email (for receipt)\"\n",
            "    Then the user click on \"Continue\"\n",
            "    Then the user validates if webelement with html attribute \"class\" as \"ctHidden acl-p--x-small md:acl-p--medium\" is visible\n",
            "    Then the user enters text \"<firstName>\" in the textbox \"First Name\"\n",
            "    Then the user enters text \"<lastName>\" in the textbox \"Last Name\"\n",
            "    Then the user enters text \"<address>\" in the textbox \"Address\"\n",
            "    Then the user enters text \"<city>\" in the textbox \"City\"\n",
            "    Then the user enters value \"<province>\" in dropdown \"Province\"\n",
            "    Then the user enters text \"<postalCode>\" in the textbox \"Postal Code\"\n",
            "    Then the user enters text \"<phone>\" in the textbox \"Phone\"\n",
            "    Then the user enters text \"<Ext_Opt>\" in the textbox \"Ext. (Optional)\"\n",
            "    Then the user click on \"Continue\"\n",
            "    Then the user verifies if the webelement with html attribute \"class\" as \"acl-text-size--large acl-weight--regular\" at index \"2\" has text \"Edit\"\n",
            "    Then the user clicks on the webelement with html tag \"class\" as \"acl-icon acl-tabs__item-icon-title\"\n",
            "    Then the user clicks on the webelement with html tag \"classname\" as \"acl-ml--x-small acl-mb--x-small\"\n",
            "    Then the user waits for webelement  \"Log in to your PayPal account\" with html attribute \"data-title\" to be visible\n",
            "    Then the user enters text \"<email>\" in textbox with placeholder \"Email or mobile number\"\n",
            "    Then the user click on \"Next\"\n",
            "    Then the user waits for webelement \"password\" with html attribute \"id\" to be visible\n",
            "    Then the user enters text \"<password>\" in textbox with placeholder \"Password\"\n",
            "    Then the user click on \"Log In\"\n",
            "    Then the user click on \"Complete Purchase\"\n",
            "    Then the user waits for webelement \"acl-button--theme--primary\" with html attribute \"class\" to be visible\n",
            "    Then the user click on \"Place Order\"\n",
            "    Then the user waits for webelement \"acl-container acl-container--theme-dark acl-p--small\" with html attribute \"class\" to be visible\n",
            "    Then the user validates if \" Your order was successful. \" text is visible\n",
            "    Then the user validates if the webelement with html attribute \"class\" as \"acl-col--12 acl-text-size--x-large\" has text \"Order Number\"\n",
            "\n",
            "    Examples:\n",
            "      | firstName | lastName | address               | city        | province | postalCode | phone      | Ext_Opt | email           | password   |\n",
            "      | Test      | User     | Test 112 Lynnbrook dr | Scarborough | Ontario  | M1H2N1     | 4704243288 | 8921    | cabuyer4@thd.ca | homedepot! |\n"
          ]
        }
      ]
    },
    {
      "cell_type": "code",
      "source": [
        "print(type(X),type(y))"
      ],
      "metadata": {
        "id": "oJXfhZ6IPDtp",
        "colab": {
          "base_uri": "https://localhost:8080/"
        },
        "outputId": "56f08079-419e-4875-af36-2d85306e3e08"
      },
      "execution_count": 20,
      "outputs": [
        {
          "output_type": "stream",
          "name": "stdout",
          "text": [
            "<class 'pandas.core.series.Series'> <class 'numpy.ndarray'>\n"
          ]
        }
      ]
    },
    {
      "cell_type": "code",
      "source": [
        "tokenizer = Tokenizer(num_words=400)\n",
        "tokenizer.fit_on_texts(y)\n",
        "word_index = tokenizer.word_index\n",
        "sequences = tokenizer.texts_to_sequences(y)\n",
        "padded_sequences = pad_sequences(sequences,maxlen=400, padding='post', truncating='post')"
      ],
      "metadata": {
        "id": "_xrGqSgxlFSo"
      },
      "execution_count": 21,
      "outputs": []
    },
    {
      "cell_type": "code",
      "source": [
        "tokenizer = Tokenizer(num_words=400)\n",
        "tokenizer.fit_on_texts(X)\n",
        "#word_index = tokenizer.word_index\n",
        "sequences = tokenizer.texts_to_sequences(X)\n",
        "padded_sequences_x = pad_sequences(sequences,maxlen=400, padding='post', truncating='post')"
      ],
      "metadata": {
        "id": "7_xpYWgO6jwX"
      },
      "execution_count": 22,
      "outputs": []
    },
    {
      "cell_type": "code",
      "source": [
        "print(word_index)\n",
        "print(len(padded_sequences))\n",
        "print(padded_sequences)\n",
        "\n",
        "import tensorflow as tf\n",
        "from tensorflow.keras.models import Sequential\n",
        "from tensorflow.keras.layers import Embedding, GlobalAveragePooling1D, Dense"
      ],
      "metadata": {
        "id": "ASPahrpiiTW_",
        "colab": {
          "base_uri": "https://localhost:8080/"
        },
        "outputId": "19381f23-595e-4576-c976-439f9f0cfc0a"
      },
      "execution_count": 23,
      "outputs": [
        {
          "output_type": "stream",
          "name": "stdout",
          "text": [
            "{'the': 1, 'user': 2, 'then': 3, 'visible': 4, 'with': 5, 'html': 6, 'text': 7, 'webelement': 8, 'if': 9, 'validates': 10, 'is': 11, 'class': 12, 'attribute': 13, 'on': 14, 'as': 15, 'to': 16, 'acl': 17, 'in': 18, 'for': 19, 'click': 20, 'enters': 21, 'be': 22, 'waits': 23, 'textbox': 24, 'store': 25, 'hdca': 26, 'clicks': 27, 'title': 28, 'tag': 29, 'cart': 30, 'placeholder': 31, 'product': 32, 'button': 33, 'checkout': 34, 'city': 35, 'order': 36, 'container': 37, 'address': 38, 'item': 39, 'email': 40, 'header': 41, 'number': 42, 'postal': 43, 'code': 44, 'has': 45, 'local': 46, 'pros': 47, 'small': 48, 'x': 49, 'continue': 50, 'postalcode': 51, 'card': 52, 'province': 53, 'or': 54, 'add': 55, 'name': 56, 'id': 57, 'delivery': 58, 'your': 59, 'at': 60, 'p': 61, '7001': 62, 'search': 63, 'phone': 64, 'list': 65, 'column': 66, 'what': 67, 'theme': 68, 'index': 69, 'me': 70, 'select': 71, 'you': 72, 'action': 73, 'up': 74, 'not': 75, 'sku': 76, 'help': 77, 'firstname': 78, 'lastname': 79, 'checkbox': 80, 'pick': 81, 'examples': 82, 'connect': 83, 'can': 84, 'we': 85, 'find': 86, 'large': 87, 'view': 88, 'tabs': 89, 'de': 90, 'password': 91, 'switches': 92, 'frame': 93, 'selected': 94, 'scarborough': 95, 'details': 96, 'value': 97, 'dropdown': 98, 'change': 99, 'magasin': 100, 'now': 101, 'color': 102, 'total': 103, 'dark': 104, 'm1r': 105, 'radio': 106, 'shipping': 107, 'submit': 108, '1': 109, '4e6': 110, 'secure': 111, 'guest': 112, 'bg': 113, 'primary': 114, 'place': 115, 'was': 116, 'successful': 117, 'size': 118, 'icon': 119, 'are': 120, 'le': 121, 'verifies': 122, 'random': 123, 'receipt': 124, 'cthidden': 125, 'col': 126, '12': 127, 'it': 128, 'price': 129, 'will': 130, 'default': 131, '2': 132, 'first': 133, 'last': 134, 'selects': 135, 'express': 136, 'account': 137, 'ellesmere': 138, 'ontario': 139, 'installation': 140, '428': 141, 'standard': 142, 'ext': 143, 'pricing': 144, 'want': 145, 'installed': 146, 'zoid': 147, 'parent': 148, 'extension': 149, 'road': 150, 'date': 151, 'presses': 152, 'keyboard': 153, 'key': 154, 'type': 155, 'data': 156, 'accordion': 157, 'panel': 158, 'a': 159, 'gift': 160, 'enter': 161, 'paypal': 162, 'en': 163, 'visa': 164, 'medium': 165, 'apply': 166, 'estimated': 167, 'taxes': 168, 'classname': 169, 'log': 170, 'ng': 171, 'summary': 172, 'productquantity': 173, 'noofproduct': 174, 'sdk': 175, 'billing': 176, 'flex': 177, 'check': 178, 'optional': 179, 'paypalusername': 180, 'paypalpassword': 181, 'scheduled': 182, 'and': 183, 'img': 184, 'home': 185, 'aria': 186, 'page': 187, 'vous': 188, 'panier': 189, 'escape': 190, 'modifier': 191, 'request': 192, 'phonenum': 193, 'hi': 194, 'test': 195, 'element': 196, '4': 197, '3': 198, 'mb': 199, '00': 200, 'subtotal': 201, 'my': 202, 'fee': 203, 'protection': 204, 'plan': 205, 'content': 206, 'appliance': 207, 'service': 208, 'label': 209, 'star': 210, 'inserted': 211, 'pour': 212, 'mt': 213, 'pin': 214, 'balance': 215, 'available': 216, 'remove': 217, 'testuser': 218, '4704243224': 219, '8921': 220, 'ml': 221, 'a1a': 222, '1a1': 223, 'wrapper': 224, 'added': 225, 'modal': 226, 'manufacturer': 227, 'model': 228, 'unit': 229, 'qty': 230, 'input': 231, 'btnpaypalcheckoutnow': 232, 'livraison': 233, 'la': 234, 'prix': 235, 'sub': 236, 'à': 237, 'ship': 238, 'pro': 239, 'of': 240, 'hdcc': 241, 'sign': 242, 'empty': 243, 'mobile': 244, 'next': 245, 'thd': 246, 'ca': 247, 'receive': 248, 'quantity': 249, 'btncheckoutnowordersummary': 250, 'depot': 251, 'link': 252, 'picker': 253, 'quantité': 254, 'expédition': 255, 'return': 256, 'here': 257, 'curity': 258, 'info': 259, 'have': 260, 'les': 261, 'ramasser': 262, 'au': 263, 'des': 264, 'locaux': 265, 'services': 266, 'near': 267, 'assembly': 268, 'checks': 269, 'message': 270, 's': 271, 'cardnumber': 272, 'row': 273, 'xx': 274, 'opt': 275, 'complete': 276, 'purchase': 277, 'john': 278, 'btnnext': 279, 'btnlogin': 280, 'cabuyer2': 281, '11111111': 282, 'appliancepostalcodebox': 283, 'exceptions': 284, 'close': 285, 'totals': 286, 'equal': 287, 'table': 288, 'calender': 289, 'francais': 290, 'que': 291, 'cherchez': 292, 'ce': 293, 'afficher': 294, 'changer': 295, 'policy': 296, 'hover': 297, 'logo': 298, 'login': 299, 'sélectionné': 300, 'votre': 301, 'image': 302, 'mettre': 303, 'lien': 304, 'avec': 305, 'ctlppostalcode': 306, 'availability': 307, '2365678914': 308, 'flat': 309, 'banner': 310, 'mx': 311, '0': 312, 'com': 313, '123': 314, 'by': 315, 'display': 316, 'automation': 317, 'md': 318, 'webdriverio': 319, 'cost': 320, 'how': 321, 'get': 322, 'final': 323, 'calculated': 324, 'during': 325, 'some': 326, 'refer': 327, 'our': 328, 'all': 329, 'disabled': 330, 'month': 331, 'qu\\x92est': 332, 'm': 333, 'article': 334, 'comment': 335, 'l\\x92obtenir': 336, \"l'article\": 337, 'supprimer': 338, 'pickup': 339, '7012': 340, 'hours': 341, 'increasednoofproduct': 342, 'decreasednoofproduct': 343, 'url': 344, 'ramassez': 345, 'articles': 346, 'ramassage': 347, 'ici': 348, 'politique': 349, 'retour': 350, '7007': 351, 'job': 352, 'site': 353, 'faux': 354, 'including': 355, 'parts': 356, 'alert': 357, 'form': 358, 'information': 359, 'an': 360, 'luther': 361, 'king': 362, '4567888': 363, 'speed': 364, 'option': 365, 'shade': 366, 'picked': 367, 'giftcardcontainer': 368, 'micro': 369, 'ui': 370, 'new': 371, 'pb': 372, 'ending': 373, '1182': 374, 'remaining': 375, '03': 376, '98062361001791279001182': 377, '9127': 378, \"'standard\": 379, \"'\": 380, 'weight': 381, 'edit': 382, '4704243288': 383, 'out': 384, 'gmail': 385, 'description': 386, 'fulfillment': 387, 'paragraph': 388, 'trigger': 389, 'modaltrans': 390, \"what's\": 391, 'covered': 392, 'year': 393, 'call': 394, 'day': 395, 'later': 396, 'invalidpostalcode': 397, 'tab': 398, 'done': 399, 'prévue': 400, 'et': 401, 'frais': 402, 'items': 403, 'previous': 404, 'ctastyle': 405, 'secondary': 406, 'svg': 407, 'ok': 408, 'menu': 409, 'long': 410, 'emaildiv': 411, 'changement': 412, 's\\x92appliquera': 413, 'tous': 414, 'aujourd\\x92hui': 415, 'montant': 416, 'plus': 417, 'french': 418, \"d'accueil\": 419, 'mon': 420, 'ville': 421, 'ou': 422, 'numéro': 423, 'du': 424, 'sélectionner': 425, 'sku1': 426, 'do': 427, 'voulez': 428, 'faire': 429, 'installer': 430, 'achat': 431, 'qu\\x92un': 432, 'strong': 433, 'ma': 434, 'payment': 435, 'trip': 436, 'field': 437, 'louis': 438, 'note': 439, 'this': 440, 'used': 441, 'extopt': 442, 'mastercard': 443, 'rd': 444, 'm1r4e6': 445, 'pincode': 446, 'cms': 447, 'ctmpostalcode': 448, 'decline': 449, 'preferredtime': 450, 'chat': 451, 'live': 452, 'maryam3': 453, 'hotmail': 454, 'arrives': 455, 'regular': 456, '112': 457, 'lynnbrook': 458, 'dr': 459, 'm1h2n1': 460, 'cabuyer4': 461, 'homedepot': 462, 'marty51': 463, 'earliest': 464, 'msg': 465, '229': 466, 'one': 467, 'before': 468, 'confirm': 469, 'time': 470, '59': 471, '98': 472, 'save': 473, 'btnreturnpolicy': 474, 'deselect': 475, 'shadow': 476, 'nav': 477, 'enabled': 478, 'datepicker': 479, '32n': 480, '3gf': 481, 'soumettre': 482, 'qui': 483, 'est': 484, 'couvert': 485, 'none': 486, 'position': 487, 'relative': 488, 'ans': 489, 'refuser': 490, 'd\\x92électroménagers': 491, 'l\\x92adresse': 492, 'recevrez': 493, 'un': 494, 'appel': 495, 'veille': 496, 'confirmer': 497, 'l\\x92heure': 498, 'current': 499, '416': 500, '609': 501, '1800': 502, 'location': 503, 'customer': 504, 'support': 505, 'cancel': 506, \"depot's\": 507, 'destinés': 508, 'être': 509, 'ramassés': 510, 'actuel': 511, 'changera': 512, 'dans': 513, \"d'accord\": 514, 'sommaire': 515, 'commande': 516, 'partiel': 517, 'estimées': 518, 'estimé': 519, 'incluant': 520, 'd\\x92expédition': 521, 'sera': 522, 'calculé': 523, 'moment': 524, 'payer': 525, 'certaines': 526, 's\\x92appliquent': 527, 'obtenir': 528, 'renseignements': 529, 'veuillez': 530, 'référer': 531, 'notre': 532, 'fr': 533, 'accueil': 534, 'clientele': 535, 'marchandises': 536, 'cancellink': 537, 'caisse': 538, 'symbol': 539, 'homepage': 540, '1000475744': 541, 'bold': 542, 'uppercase': 543, 'changing': 544, 'affect': 545, 'sélectionnée': 546, 'tard': 547, 'ancaster': 548, 'inscrivez': 549, 'chantier': 550, 'connaître': 551, 'disponibilité': 552, 'there': 553, 'no': 554, 'm4g': 555, '4h9': 556, 'customize': 557, 'buy': 558, 'windowname': 559, 'window': 560, 'inside': 561, 'mount': 562, 'white': 563, '5035': 564, 'privacy': 565, 'slats': 566, \"'3\": 567, \"valance'\": 568, 'wand': 569, 'tilt': 570, 'paywith': 571, 'testid': 572, 'btn': 573, 'customization': 574, 'border': 575, 'left': 576, 'made': 577, 'rosa': 578, 'almidar': 579, '621': 580, 'rue': 581, 'habe': 582, 'lavaltrie': 583, 'quebec': 584, 'j5t': 585, '2a1': 586, '4165985212': 587, 'included': 588, 'formcontrolname': 589, 'cticheckbox': 590, 'haulaway': 591, 'dispose': 592, 'gas': 593, 'cooktop': 594, 'pr': 595, 'fieldset': 596, 'inline': 597, 'pt': 598, 'chen': 599, 'contains': 600, 'scrolls': 601, 'credit': 602, 'cameron': 603, '898': 604, 'each': 605, '400': 606, 'learn': 607, 'more': 608, 'about': 609, 'why': 610, 'choose': 611, 'block': 612, '480': 613, 'same': 614, 'within': 615, '72': 616, 'provide': 617, 'quote': 618, 'discuss': 619, 'scheduling': 620, \"you'll\": 621, 'also': 622, 'confirmation': 623, 'their': 624, 'steps': 625, 'adriel': 626, 'mills43': 627, 'gallery': 628, 'py': 629, 'section': 630, 'button2': 631, 'line': 632, 'limit': 633, 'wspace': 634, 'nowrap': 635, 'justify': 636, 'between': 637, '4e3': 638, '9001': 639, 'customized': 640, 'controls': 641, 'schedule': 642, 'false': 643, 'preferred': 644, 'arrival': 645, '4700148224': 646, '8': 647, '11': 648, '9765': 649}\n",
            "29\n",
            "[[  3   1   2 ...   0   0   0]\n",
            " [  3   1   2 ...  18   1  24]\n",
            " [  3   1   2 ...  50   3   1]\n",
            " ...\n",
            " [  3   1   2 ...  50   3   1]\n",
            " [  3   1   2 ...   5   6  29]\n",
            " [  3   1   2 ...  52 175   3]]\n"
          ]
        }
      ]
    },
    {
      "cell_type": "code",
      "source": [
        "print(type(sequences))"
      ],
      "metadata": {
        "id": "8CpLrn5hmzSI",
        "colab": {
          "base_uri": "https://localhost:8080/"
        },
        "outputId": "ade15125-0b6d-4c97-aa83-e7107140e41b"
      },
      "execution_count": 24,
      "outputs": [
        {
          "output_type": "stream",
          "name": "stdout",
          "text": [
            "<class 'list'>\n"
          ]
        }
      ]
    },
    {
      "cell_type": "code",
      "source": [
        "print(max(padded_sequences[1]))"
      ],
      "metadata": {
        "id": "vlP7zwRHiTcQ",
        "colab": {
          "base_uri": "https://localhost:8080/"
        },
        "outputId": "630fc5ed-0709-49c0-8e0c-729e87ca0d1d"
      },
      "execution_count": 25,
      "outputs": [
        {
          "output_type": "stream",
          "name": "stdout",
          "text": [
            "370\n"
          ]
        }
      ]
    },
    {
      "cell_type": "code",
      "source": [
        "model = Sequential()\n",
        "model.add(Embedding(input_dim=400, output_dim=10))\n",
        "model.add(GlobalAveragePooling1D())\n",
        "model.add(Dense(units=16, activation='relu'))\n",
        "model.add(Dense(units=10, activation='sigmoid'))\n",
        "model.add(Dense(units=1, activation='softmax'))"
      ],
      "metadata": {
        "id": "ZIoNrwl9iTd5"
      },
      "execution_count": 26,
      "outputs": []
    },
    {
      "cell_type": "code",
      "source": [
        "model.compile(loss='sparse_categorical_crossentropy', optimizer='adam', metrics=['accuracy'])\n",
        "\n",
        "# Print the model summary\n",
        "model.summary()"
      ],
      "metadata": {
        "id": "ydBgkAJgiTft",
        "colab": {
          "base_uri": "https://localhost:8080/"
        },
        "outputId": "9fcffd9d-61fa-4de0-ae9e-9b063c6d9dcd"
      },
      "execution_count": 27,
      "outputs": [
        {
          "output_type": "stream",
          "name": "stdout",
          "text": [
            "Model: \"sequential\"\n",
            "_________________________________________________________________\n",
            " Layer (type)                Output Shape              Param #   \n",
            "=================================================================\n",
            " embedding (Embedding)       (None, None, 10)          4000      \n",
            "                                                                 \n",
            " global_average_pooling1d (G  (None, 10)               0         \n",
            " lobalAveragePooling1D)                                          \n",
            "                                                                 \n",
            " dense (Dense)               (None, 16)                176       \n",
            "                                                                 \n",
            " dense_1 (Dense)             (None, 10)                170       \n",
            "                                                                 \n",
            " dense_2 (Dense)             (None, 1)                 11        \n",
            "                                                                 \n",
            "=================================================================\n",
            "Total params: 4,357\n",
            "Trainable params: 4,357\n",
            "Non-trainable params: 0\n",
            "_________________________________________________________________\n"
          ]
        }
      ]
    },
    {
      "cell_type": "code",
      "source": [
        "history = model.fit(padded_sequences_x,padded_sequences, epochs=500, verbose=1)"
      ],
      "metadata": {
        "id": "J93nYPB1iTiY",
        "colab": {
          "base_uri": "https://localhost:8080/",
          "height": 1000
        },
        "outputId": "a51ed560-8f82-484a-dc16-e7549838a1a8"
      },
      "execution_count": 28,
      "outputs": [
        {
          "output_type": "stream",
          "name": "stdout",
          "text": [
            "Epoch 1/500\n"
          ]
        },
        {
          "output_type": "error",
          "ename": "InvalidArgumentError",
          "evalue": "ignored",
          "traceback": [
            "\u001b[0;31m---------------------------------------------------------------------------\u001b[0m",
            "\u001b[0;31mInvalidArgumentError\u001b[0m                      Traceback (most recent call last)",
            "\u001b[0;32m<ipython-input-28-f07a0d302f31>\u001b[0m in \u001b[0;36m<cell line: 1>\u001b[0;34m()\u001b[0m\n\u001b[0;32m----> 1\u001b[0;31m \u001b[0mhistory\u001b[0m \u001b[0;34m=\u001b[0m \u001b[0mmodel\u001b[0m\u001b[0;34m.\u001b[0m\u001b[0mfit\u001b[0m\u001b[0;34m(\u001b[0m\u001b[0mpadded_sequences_x\u001b[0m\u001b[0;34m,\u001b[0m\u001b[0mpadded_sequences\u001b[0m\u001b[0;34m,\u001b[0m \u001b[0mepochs\u001b[0m\u001b[0;34m=\u001b[0m\u001b[0;36m500\u001b[0m\u001b[0;34m,\u001b[0m \u001b[0mverbose\u001b[0m\u001b[0;34m=\u001b[0m\u001b[0;36m1\u001b[0m\u001b[0;34m)\u001b[0m\u001b[0;34m\u001b[0m\u001b[0;34m\u001b[0m\u001b[0m\n\u001b[0m",
            "\u001b[0;32m/usr/local/lib/python3.10/dist-packages/keras/utils/traceback_utils.py\u001b[0m in \u001b[0;36merror_handler\u001b[0;34m(*args, **kwargs)\u001b[0m\n\u001b[1;32m     68\u001b[0m             \u001b[0;31m# To get the full stack trace, call:\u001b[0m\u001b[0;34m\u001b[0m\u001b[0;34m\u001b[0m\u001b[0m\n\u001b[1;32m     69\u001b[0m             \u001b[0;31m# `tf.debugging.disable_traceback_filtering()`\u001b[0m\u001b[0;34m\u001b[0m\u001b[0;34m\u001b[0m\u001b[0m\n\u001b[0;32m---> 70\u001b[0;31m             \u001b[0;32mraise\u001b[0m \u001b[0me\u001b[0m\u001b[0;34m.\u001b[0m\u001b[0mwith_traceback\u001b[0m\u001b[0;34m(\u001b[0m\u001b[0mfiltered_tb\u001b[0m\u001b[0;34m)\u001b[0m \u001b[0;32mfrom\u001b[0m \u001b[0;32mNone\u001b[0m\u001b[0;34m\u001b[0m\u001b[0;34m\u001b[0m\u001b[0m\n\u001b[0m\u001b[1;32m     71\u001b[0m         \u001b[0;32mfinally\u001b[0m\u001b[0;34m:\u001b[0m\u001b[0;34m\u001b[0m\u001b[0;34m\u001b[0m\u001b[0m\n\u001b[1;32m     72\u001b[0m             \u001b[0;32mdel\u001b[0m \u001b[0mfiltered_tb\u001b[0m\u001b[0;34m\u001b[0m\u001b[0;34m\u001b[0m\u001b[0m\n",
            "\u001b[0;32m/usr/local/lib/python3.10/dist-packages/tensorflow/python/eager/execute.py\u001b[0m in \u001b[0;36mquick_execute\u001b[0;34m(op_name, num_outputs, inputs, attrs, ctx, name)\u001b[0m\n\u001b[1;32m     50\u001b[0m   \u001b[0;32mtry\u001b[0m\u001b[0;34m:\u001b[0m\u001b[0;34m\u001b[0m\u001b[0;34m\u001b[0m\u001b[0m\n\u001b[1;32m     51\u001b[0m     \u001b[0mctx\u001b[0m\u001b[0;34m.\u001b[0m\u001b[0mensure_initialized\u001b[0m\u001b[0;34m(\u001b[0m\u001b[0;34m)\u001b[0m\u001b[0;34m\u001b[0m\u001b[0;34m\u001b[0m\u001b[0m\n\u001b[0;32m---> 52\u001b[0;31m     tensors = pywrap_tfe.TFE_Py_Execute(ctx._handle, device_name, op_name,\n\u001b[0m\u001b[1;32m     53\u001b[0m                                         inputs, attrs, num_outputs)\n\u001b[1;32m     54\u001b[0m   \u001b[0;32mexcept\u001b[0m \u001b[0mcore\u001b[0m\u001b[0;34m.\u001b[0m\u001b[0m_NotOkStatusException\u001b[0m \u001b[0;32mas\u001b[0m \u001b[0me\u001b[0m\u001b[0;34m:\u001b[0m\u001b[0;34m\u001b[0m\u001b[0;34m\u001b[0m\u001b[0m\n",
            "\u001b[0;31mInvalidArgumentError\u001b[0m: Graph execution error:\n\nDetected at node 'sparse_categorical_crossentropy/SparseSoftmaxCrossEntropyWithLogits/SparseSoftmaxCrossEntropyWithLogits' defined at (most recent call last):\n    File \"/usr/lib/python3.10/runpy.py\", line 196, in _run_module_as_main\n      return _run_code(code, main_globals, None,\n    File \"/usr/lib/python3.10/runpy.py\", line 86, in _run_code\n      exec(code, run_globals)\n    File \"/usr/local/lib/python3.10/dist-packages/ipykernel_launcher.py\", line 16, in <module>\n      app.launch_new_instance()\n    File \"/usr/local/lib/python3.10/dist-packages/traitlets/config/application.py\", line 992, in launch_instance\n      app.start()\n    File \"/usr/local/lib/python3.10/dist-packages/ipykernel/kernelapp.py\", line 619, in start\n      self.io_loop.start()\n    File \"/usr/local/lib/python3.10/dist-packages/tornado/platform/asyncio.py\", line 195, in start\n      self.asyncio_loop.run_forever()\n    File \"/usr/lib/python3.10/asyncio/base_events.py\", line 603, in run_forever\n      self._run_once()\n    File \"/usr/lib/python3.10/asyncio/base_events.py\", line 1909, in _run_once\n      handle._run()\n    File \"/usr/lib/python3.10/asyncio/events.py\", line 80, in _run\n      self._context.run(self._callback, *self._args)\n    File \"/usr/local/lib/python3.10/dist-packages/tornado/ioloop.py\", line 685, in <lambda>\n      lambda f: self._run_callback(functools.partial(callback, future))\n    File \"/usr/local/lib/python3.10/dist-packages/tornado/ioloop.py\", line 738, in _run_callback\n      ret = callback()\n    File \"/usr/local/lib/python3.10/dist-packages/tornado/gen.py\", line 825, in inner\n      self.ctx_run(self.run)\n    File \"/usr/local/lib/python3.10/dist-packages/tornado/gen.py\", line 786, in run\n      yielded = self.gen.send(value)\n    File \"/usr/local/lib/python3.10/dist-packages/ipykernel/kernelbase.py\", line 377, in dispatch_queue\n      yield self.process_one()\n    File \"/usr/local/lib/python3.10/dist-packages/tornado/gen.py\", line 250, in wrapper\n      runner = Runner(ctx_run, result, future, yielded)\n    File \"/usr/local/lib/python3.10/dist-packages/tornado/gen.py\", line 748, in __init__\n      self.ctx_run(self.run)\n    File \"/usr/local/lib/python3.10/dist-packages/tornado/gen.py\", line 786, in run\n      yielded = self.gen.send(value)\n    File \"/usr/local/lib/python3.10/dist-packages/ipykernel/kernelbase.py\", line 361, in process_one\n      yield gen.maybe_future(dispatch(*args))\n    File \"/usr/local/lib/python3.10/dist-packages/tornado/gen.py\", line 234, in wrapper\n      yielded = ctx_run(next, result)\n    File \"/usr/local/lib/python3.10/dist-packages/ipykernel/kernelbase.py\", line 261, in dispatch_shell\n      yield gen.maybe_future(handler(stream, idents, msg))\n    File \"/usr/local/lib/python3.10/dist-packages/tornado/gen.py\", line 234, in wrapper\n      yielded = ctx_run(next, result)\n    File \"/usr/local/lib/python3.10/dist-packages/ipykernel/kernelbase.py\", line 539, in execute_request\n      self.do_execute(\n    File \"/usr/local/lib/python3.10/dist-packages/tornado/gen.py\", line 234, in wrapper\n      yielded = ctx_run(next, result)\n    File \"/usr/local/lib/python3.10/dist-packages/ipykernel/ipkernel.py\", line 302, in do_execute\n      res = shell.run_cell(code, store_history=store_history, silent=silent)\n    File \"/usr/local/lib/python3.10/dist-packages/ipykernel/zmqshell.py\", line 539, in run_cell\n      return super(ZMQInteractiveShell, self).run_cell(*args, **kwargs)\n    File \"/usr/local/lib/python3.10/dist-packages/IPython/core/interactiveshell.py\", line 2975, in run_cell\n      result = self._run_cell(\n    File \"/usr/local/lib/python3.10/dist-packages/IPython/core/interactiveshell.py\", line 3030, in _run_cell\n      return runner(coro)\n    File \"/usr/local/lib/python3.10/dist-packages/IPython/core/async_helpers.py\", line 78, in _pseudo_sync_runner\n      coro.send(None)\n    File \"/usr/local/lib/python3.10/dist-packages/IPython/core/interactiveshell.py\", line 3257, in run_cell_async\n      has_raised = await self.run_ast_nodes(code_ast.body, cell_name,\n    File \"/usr/local/lib/python3.10/dist-packages/IPython/core/interactiveshell.py\", line 3473, in run_ast_nodes\n      if (await self.run_code(code, result,  async_=asy)):\n    File \"/usr/local/lib/python3.10/dist-packages/IPython/core/interactiveshell.py\", line 3553, in run_code\n      exec(code_obj, self.user_global_ns, self.user_ns)\n    File \"<ipython-input-28-f07a0d302f31>\", line 1, in <cell line: 1>\n      history = model.fit(padded_sequences_x,padded_sequences, epochs=500, verbose=1)\n    File \"/usr/local/lib/python3.10/dist-packages/keras/utils/traceback_utils.py\", line 65, in error_handler\n      return fn(*args, **kwargs)\n    File \"/usr/local/lib/python3.10/dist-packages/keras/engine/training.py\", line 1685, in fit\n      tmp_logs = self.train_function(iterator)\n    File \"/usr/local/lib/python3.10/dist-packages/keras/engine/training.py\", line 1284, in train_function\n      return step_function(self, iterator)\n    File \"/usr/local/lib/python3.10/dist-packages/keras/engine/training.py\", line 1268, in step_function\n      outputs = model.distribute_strategy.run(run_step, args=(data,))\n    File \"/usr/local/lib/python3.10/dist-packages/keras/engine/training.py\", line 1249, in run_step\n      outputs = model.train_step(data)\n    File \"/usr/local/lib/python3.10/dist-packages/keras/engine/training.py\", line 1051, in train_step\n      loss = self.compute_loss(x, y, y_pred, sample_weight)\n    File \"/usr/local/lib/python3.10/dist-packages/keras/engine/training.py\", line 1109, in compute_loss\n      return self.compiled_loss(\n    File \"/usr/local/lib/python3.10/dist-packages/keras/engine/compile_utils.py\", line 265, in __call__\n      loss_value = loss_obj(y_t, y_p, sample_weight=sw)\n    File \"/usr/local/lib/python3.10/dist-packages/keras/losses.py\", line 142, in __call__\n      losses = call_fn(y_true, y_pred)\n    File \"/usr/local/lib/python3.10/dist-packages/keras/losses.py\", line 268, in call\n      return ag_fn(y_true, y_pred, **self._fn_kwargs)\n    File \"/usr/local/lib/python3.10/dist-packages/keras/losses.py\", line 2078, in sparse_categorical_crossentropy\n      return backend.sparse_categorical_crossentropy(\n    File \"/usr/local/lib/python3.10/dist-packages/keras/backend.py\", line 5660, in sparse_categorical_crossentropy\n      res = tf.nn.sparse_softmax_cross_entropy_with_logits(\nNode: 'sparse_categorical_crossentropy/SparseSoftmaxCrossEntropyWithLogits/SparseSoftmaxCrossEntropyWithLogits'\nlogits and labels must have the same first dimension, got logits shape [29,1] and labels shape [11600]\n\t [[{{node sparse_categorical_crossentropy/SparseSoftmaxCrossEntropyWithLogits/SparseSoftmaxCrossEntropyWithLogits}}]] [Op:__inference_train_function_1155]"
          ]
        }
      ]
    },
    {
      "cell_type": "code",
      "source": [],
      "metadata": {
        "id": "TTuO0CUQiTk-"
      },
      "execution_count": null,
      "outputs": []
    },
    {
      "cell_type": "code",
      "source": [],
      "metadata": {
        "id": "rzF1O4HCiTmu"
      },
      "execution_count": null,
      "outputs": []
    },
    {
      "cell_type": "code",
      "source": [],
      "metadata": {
        "id": "fxkhrM4QiTqQ"
      },
      "execution_count": null,
      "outputs": []
    }
  ]
}